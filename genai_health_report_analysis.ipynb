{
  "nbformat": 4,
  "nbformat_minor": 0,
  "metadata": {
    "colab": {
      "provenance": []
    },
    "kernelspec": {
      "name": "python3",
      "display_name": "Python 3"
    },
    "language_info": {
      "name": "python"
    }
  },
  "cells": [
    {
      "cell_type": "code",
      "execution_count": 1,
      "metadata": {
        "colab": {
          "base_uri": "https://localhost:8080/"
        },
        "id": "cuE3Xpx1OAtM",
        "outputId": "d9cbd18b-72e7-4ad4-d66a-4bf45b24dff3"
      },
      "outputs": [
        {
          "output_type": "stream",
          "name": "stdout",
          "text": [
            "Collecting PyPDF2\n",
            "  Downloading pypdf2-3.0.1-py3-none-any.whl.metadata (6.8 kB)\n",
            "Downloading pypdf2-3.0.1-py3-none-any.whl (232 kB)\n",
            "\u001b[?25l   \u001b[90m━━━━━━━━━━━━━━━━━━━━━━━━━━━━━━━━━━━━━━━━\u001b[0m \u001b[32m0.0/232.6 kB\u001b[0m \u001b[31m?\u001b[0m eta \u001b[36m-:--:--\u001b[0m\r\u001b[2K   \u001b[91m━━━━━━━━━━━━━━━━━━━━━━━━\u001b[0m\u001b[91m╸\u001b[0m\u001b[90m━━━━━━━━━━━━━━━\u001b[0m \u001b[32m143.4/232.6 kB\u001b[0m \u001b[31m4.5 MB/s\u001b[0m eta \u001b[36m0:00:01\u001b[0m\r\u001b[2K   \u001b[90m━━━━━━━━━━━━━━━━━━━━━━━━━━━━━━━━━━━━━━━━\u001b[0m \u001b[32m232.6/232.6 kB\u001b[0m \u001b[31m3.8 MB/s\u001b[0m eta \u001b[36m0:00:00\u001b[0m\n",
            "\u001b[?25hInstalling collected packages: PyPDF2\n",
            "Successfully installed PyPDF2-3.0.1\n"
          ]
        }
      ],
      "source": [
        "pip install PyPDF2"
      ]
    },
    {
      "cell_type": "code",
      "source": [
        "import google.generativeai as genai\n",
        "from google.colab import userdata\n",
        "GOOGLE_API_KEY=userdata.get('GOOGLE_API_KEY')\n",
        "genai.configure(api_key=GOOGLE_API_KEY)"
      ],
      "metadata": {
        "id": "R-BTmaa1OMgE"
      },
      "execution_count": 2,
      "outputs": []
    },
    {
      "cell_type": "code",
      "source": [
        "import PyPDF2\n",
        "def extract_text_from_pdf(pdf_path):\n",
        "  text=\"\"\n",
        "  with open(pdf_path,\"rb\") as file:\n",
        "    reader=PyPDF2.PdfReader(file)\n",
        "    for page in reader.pages:\n",
        "      text+=page.extract_text()+\"\\n\"\n",
        "  return text"
      ],
      "metadata": {
        "id": "bh5VBLjGO8xb"
      },
      "execution_count": 6,
      "outputs": []
    },
    {
      "cell_type": "code",
      "source": [
        "def extract_health_insights(text):\n",
        "  model=genai.GenerativeModel(\"gemini-1.5-flash\")\n",
        "  prompt=f\"Extract key insights from the following health report:\\n\\n{text}\"\n",
        "  response=model.generate_content(prompt)\n",
        "  return response.text\n",
        "pdf_file=\"health_report.pdf\"\n",
        "extracted_text=extract_text_from_pdf(pdf_file)\n",
        "insights=extract_health_insights(extracted_text)\n",
        "print(\"Key insights:\\n\",insights)"
      ],
      "metadata": {
        "colab": {
          "base_uri": "https://localhost:8080/",
          "height": 488
        },
        "id": "cK-NprbcPNm7",
        "outputId": "0995893d-661b-443f-d8a0-86ceeb0eb07f"
      },
      "execution_count": 7,
      "outputs": [
        {
          "output_type": "stream",
          "name": "stdout",
          "text": [
            "Key insights:\n",
            " Mr. Kishan Goud's (MR2100003157, IP2100041193) health report from 01/02/2021 reveals the following key insights:\n",
            "\n",
            "**Infectious Diseases:**\n",
            "\n",
            "* **Widal Test:** Elevated titers for *Salmonella Typhi* \"O\" (1:160) and \"H\" (1:80) suggest a possible past or current *Salmonella Typhi* infection.  The titers for *Salmonella Paratyphi* \"A\" and \"B\" are within the normal range.  Further investigation may be needed to confirm active infection.\n",
            "* **Dengue Serology:** Negative results for Dengue NS1 antigen, IgG, and IgM antibodies rule out a current or recent dengue fever infection.\n",
            "* **Malaria:** Negative rapid malaria tests for *Plasmodium falciparum* and *Plasmodium vivax* exclude malaria.\n",
            "\n",
            "**Hematology:**\n",
            "\n",
            "* **Complete Blood Picture (CBC):**  Hemoglobin, RBC, WBC, and platelet counts are all within normal ranges.  Differential count shows normal neutrophil, lymphocyte, monocyte, eosinophil, and basophil percentages.  Peripheral blood smear shows normal RBC morphology and WBC count within normal limits.\n",
            "* **Erythrocyte Sedimentation Rate (ESR):** Elevated ESR (26 mm/hr in the first hour, 52 mm/hr in the second hour), which is significantly higher than the reference range (0-8 mm/hr), indicates inflammation or infection somewhere in the body.  This warrants further investigation to determine the underlying cause.\n",
            "\n",
            "**Biochemistry:**\n",
            "\n",
            "* **Liver Function Tests (LFTs):**  All liver function parameters (bilirubin, alkaline phosphatase, SGOT, SGPT, total protein, albumin, globulin, A/G ratio) are within normal ranges, suggesting no significant liver dysfunction.\n",
            "* **Renal Function Test:** Serum creatinine is within the normal range (0.8 mg/dl), indicating normal kidney function.\n",
            "* **Blood Glucose:** Random blood glucose level is not provided.\n",
            "* **HbA1c:**  HbA1c level of 5.4% falls within the normal non-diabetic range (4-6%), indicating good glycemic control.\n",
            "* **Electrolytes:** Serum sodium (122 mmol/l) is slightly below the lower limit of the reference range (135-146 mmol/l) which warrants further investigation. Serum potassium and chloride are within the normal range.\n",
            "\n",
            "**Overall:**\n",
            "\n",
            "While some results show elevated inflammation (ESR) and slightly low sodium,  most of the tests indicate that Mr. Kishan Goud's organ function is generally normal. The elevated Widal test titers require further evaluation to determine the significance and clinical implications. The slightly low sodium should be investigated further to determine if it is indicative of an underlying health issue.  The high ESR suggests ongoing inflammation which needs further investigation to identify the root cause.\n",
            "\n"
          ]
        }
      ]
    },
    {
      "cell_type": "code",
      "source": [
        "def summarize_health_report(text):\n",
        "  model=genai.GenerativeModel(\"gemini-1.5-flash\")\n",
        "  prompt=f\"Summarize the following health report:\\n\\n{text}\"\n",
        "  response=model.generate_content(prompt)\n",
        "  return response.text\n",
        "summary=summarize_health_report(extracted_text)\n",
        "print(\"Summary: \\n\",summary)"
      ],
      "metadata": {
        "colab": {
          "base_uri": "https://localhost:8080/",
          "height": 471
        },
        "id": "5JqUfXMZQs8r",
        "outputId": "4015f278-ec57-4215-d3bc-a714484c5488"
      },
      "execution_count": 8,
      "outputs": [
        {
          "output_type": "stream",
          "name": "stdout",
          "text": [
            "Summary: \n",
            " This is a comprehensive health report for Mr. Kishan Goud (MR2100003157), a 56-year-old male,  dated February 1st, 2021.  The report includes several tests:\n",
            "\n",
            "**Infectious Disease Screening:**\n",
            "\n",
            "* **Widal Test:** Elevated titers for *Salmonella Typhi* \"O\" (1:160) and \"H\" (1:80), suggesting possible past or current typhoid infection.  *Salmonella Paratyphi* \"AH\" and \"BH\" titers were within the normal range.\n",
            "* **Dengue Serology:** Negative for Dengue NS1 antigen, IgG, and IgM antibodies.\n",
            "* **Malaria Test:** Negative for both *Plasmodium falciparum* and *Plasmodium vivax*.\n",
            "\n",
            "**Hematology:**\n",
            "\n",
            "* **Complete Blood Picture (CBC):**  All values (Hemoglobin, RBC, WBC, Platelets, PCV, Differential Count) were within normal limits or only slightly outside the reference range.\n",
            "* **Erythrocyte Sedimentation Rate (ESR):** Elevated (26 mm/hr in the first hour, 52 mm/hr in the second hour), suggesting inflammation.\n",
            "\n",
            "**Blood Chemistry:**\n",
            "\n",
            "* **HbA1c:** 5.4%, within the normal non-diabetic range.\n",
            "* **Serum Creatinine:** 0.8 mg/dl, within the normal range.\n",
            "* **Random Blood Glucose:**  The value is missing from the provided text.\n",
            "* **Liver Function Test (LFT):** All values (Total Bilirubin, Direct Bilirubin, Indirect Bilirubin, Alkaline Phosphatase, SGOT, SGPT, Total Protein, Albumin, Globulin, A/G Ratio) were within normal limits.\n",
            "* **Serum Electrolytes:** Sodium (122 mmol/l) was slightly below the normal range, while Potassium and Chloride were within normal limits.\n",
            "\n",
            "\n",
            "**Overall:**  While the elevated Widal test and ESR suggest possible past or present infection and inflammation,  the other tests show no acute infections (Dengue, Malaria) and mostly normal organ function.  The slightly low sodium requires further investigation.  The missing random blood glucose value prevents a complete assessment of glucose homeostasis.\n",
            "\n"
          ]
        }
      ]
    },
    {
      "cell_type": "code",
      "source": [
        "def detect_abnormalities(text):\n",
        "    model = genai.GenerativeModel(\"gemini-1.5-flash\")\n",
        "    prompt = f\"Analyze the lab test results in the following health report and highlight any abnormal values: {text}\"\n",
        "    response = model.generate_content(prompt)\n",
        "    return response.text\n",
        "abnormalities = detect_abnormalities(extracted_text)\n",
        "print(\"Potential Abnormalities:\\n\", abnormalities)"
      ],
      "metadata": {
        "colab": {
          "base_uri": "https://localhost:8080/",
          "height": 315
        },
        "id": "PMwL5KYzS5rr",
        "outputId": "fe082a84-54cc-4c2c-93f6-9dd0913c2929"
      },
      "execution_count": 10,
      "outputs": [
        {
          "output_type": "stream",
          "name": "stdout",
          "text": [
            "Potential Abnormalities:\n",
            " Based on the provided lab results, the following values fall outside the biological reference ranges, indicating potential abnormalities:\n",
            "\n",
            "* **Widal Test:**  S. Typhi \"O\" (1:160) and S. Typhi \"H\" (1:80) are significantly higher than the reference range (1:20). This suggests a possible past or present typhoid infection.  Further investigation is needed to confirm an active infection.\n",
            "\n",
            "* **ESR (Erythrocyte Sedimentation Rate):**  Both the 1st hour (26 mm/hr) and 2nd hour (52 mm/hr) ESR values are markedly elevated compared to the reference range (0-8 mm/hr).  Elevated ESR indicates inflammation or infection somewhere in the body.\n",
            "\n",
            "* **Serum Sodium:**  The serum sodium level (122 mmol/l) is below the reference range (135-146 mmol/l). This is hyponatremia, indicating low sodium levels in the blood.  This could be caused by several factors and needs further evaluation.\n",
            "\n",
            "* **Serum Chloride:** The serum chloride level (97 mmol/l) is slightly below the lower limit of the reference range (98-107 mmol/l). While only slightly low, it might be worth monitoring in conjunction with the hyponatremia.\n",
            "\n",
            "\n",
            "**All other test results are within the normal reference ranges.**\n",
            "\n",
            "**Important Note:** I am an AI and cannot provide medical advice.  These highlighted abnormalities require interpretation by a qualified medical professional.  Mr. Kishan Goud should discuss these results with his doctor, Dr. Krishna Prasad, for proper diagnosis and treatment.  The elevated ESR and Widal test results in particular warrant further investigation to determine the underlying cause.\n",
            "\n"
          ]
        }
      ]
    },
    {
      "cell_type": "code",
      "source": [
        "def explain_medical_terms(text):\n",
        "    model = genai.GenerativeModel('gemini-1.5-flash')\n",
        "    prompt = f\"Explain the medical terms in the following health report in simple language: {text}\"\n",
        "    response = model.generate_content(prompt)\n",
        "    return response.text\n",
        "\n",
        "explanation = explain_medical_terms(extracted_text)\n",
        "print(\"Simplified Explanation:\\n\", explanation)"
      ],
      "metadata": {
        "colab": {
          "base_uri": "https://localhost:8080/",
          "height": 766
        },
        "id": "7MwmemwHUQoE",
        "outputId": "246e4d8c-46d9-4f9c-9b93-bb990caed142"
      },
      "execution_count": 12,
      "outputs": [
        {
          "output_type": "stream",
          "name": "stdout",
          "text": [
            "Simplified Explanation:\n",
            " This report shows the results of several blood tests performed on Mr. Kishan Goud. Let's break down the results in simple terms:\n",
            "\n",
            "**1. Widal Test (Infectious Disease):** This test checks for antibodies against *Salmonella* bacteria, which cause typhoid fever and paratyphoid fever.\n",
            "\n",
            "* **S. Typhi \"O\" 1:160:**  This indicates a moderate antibody response to the \"O\" antigen of *Salmonella Typhi* (the bacteria causing typhoid).  The higher the number, the stronger the possible response.  A 1:160 result could indicate past infection or a current infection.\n",
            "* **S. Typhi \"H\" 1:80:** This shows a moderate antibody response to the \"H\" antigen of *Salmonella Typhi*.\n",
            "* **S. Paratyphi \"A\" H 1:20:** This is a normal response to the \"H\" antigen of *Salmonella Paratyphi A* (a bacteria causing paratyphoid fever).\n",
            "* **S. Paratyphi \"B\" H 1:20:**  This is a normal response to the \"H\" antigen of *Salmonella Paratyphi B*.\n",
            "\n",
            "**2. Dengue Serology (Infectious Disease):**  This test checks for dengue fever, a mosquito-borne illness.  All results (NS1 antigen, IgG, and IgM) are negative, meaning no evidence of dengue fever was found.\n",
            "\n",
            "**3. Erythrocyte Sedimentation Rate (ESR) (Inflammation):** This test measures how quickly red blood cells settle at the bottom of a test tube.  A faster rate (like the patient's 26 mm/hr after the first hour and 52 mm/hr after the second hour) often suggests inflammation in the body.  This needs further investigation to determine the cause of the inflammation.\n",
            "\n",
            "**4. Rapid Malaria Test (Infectious Disease):** Both tests for *Plasmodium vivax* (P.V.) and *Plasmodium falciparum* (P.F.) are negative, ruling out malaria.\n",
            "\n",
            "**5. Complete Blood Picture (CBC) (Blood Cell Count):** This gives a comprehensive overview of the blood cells.\n",
            "\n",
            "* **Hemoglobin (Hb):** 13.6 gms% (within the normal range) – measures the oxygen-carrying capacity of the blood.\n",
            "* **Red Blood Cells (RBC):** 4.3 mill/cumm (slightly low, but within the acceptable range) – the number of red blood cells.\n",
            "* **White Blood Cells (WBC):** 7,200 cells/cumm (within the normal range) – the number of infection-fighting cells.\n",
            "* **Platelets:** 2.0 lakhs/cumm (within the normal range) – blood cells that help with clotting.\n",
            "* **Packed Cell Volume (PCV):** 40.5% (within the normal range) – the proportion of red blood cells in the blood.\n",
            "* **Differential Count:** This breaks down the types of white blood cells. All are within the normal ranges.\n",
            "* **Peripheral Blood Smear:**  Microscopic examination of the blood showed normal red and white blood cells and adequate platelets.\n",
            "\n",
            "**6. HbA1c (Diabetes):** 5.4% (within the normal non-diabetic range). This test measures average blood sugar levels over the past 2-3 months and indicates good blood sugar control.  The patient doesn't appear to have diabetes.\n",
            "\n",
            "**7. Serum Creatinine (Kidney Function):** 0.8 mg/dl (within the normal range). This indicates normal kidney function.\n",
            "\n",
            "**8. Random Blood Glucose (Blood Sugar):**  Not given as a numerical value.  However, the reference range is 60-170 mg/dl, suggesting it was within the acceptable range.\n",
            "\n",
            "**9. Liver Function Test (LFT):** Several tests assess liver function.  All results are within the normal ranges, indicating no significant liver issues.  This includes bilirubin (total, direct, and indirect), alkaline phosphatase, SGOT (AST), SGPT (ALT), total protein, albumin, globulin, and A/G ratio.\n",
            "\n",
            "**10. Serum Electrolytes (Electrolyte Balance):** These tests measure levels of important salts in the blood.\n",
            "* **Sodium:** 122 mmol/l (slightly low).\n",
            "* **Potassium:** 3.5 mmol/l (within the normal range).\n",
            "* **Chloride:** 97 mmol/l (slightly low).\n",
            "\n",
            "\n",
            "**Overall:**  While some values are slightly outside the ideal range (e.g., slightly low sodium and chloride, slightly elevated ESR), most results are within normal limits. The slightly elevated ESR warrants further investigation to determine the underlying cause of the inflammation. The moderately elevated Widal test titers suggest a possible past or present *Salmonella* infection, requiring further clinical evaluation by the doctor.  It's crucial to discuss these results with Dr. Krishna Prasad for proper interpretation and further medical advice.\n",
            "\n"
          ]
        }
      ]
    },
    {
      "cell_type": "code",
      "source": [
        "def ask_gemini_about_report(text, question):\n",
        "    model = genai.GenerativeModel(\"gemini-1.5-flash\")\n",
        "    prompt = f\"The following is a health report:\\n\\n{text}\\n\\nAnswer the following question based on the report:\\n{question}\"\n",
        "    response = model.generate_content(prompt)\n",
        "    return response.text\n",
        "\n",
        "question = \"What is the patient's Name?\"\n",
        "answer = ask_gemini_about_report(extracted_text, question)\n",
        "print(\"Answer:\\n\", answer)"
      ],
      "metadata": {
        "colab": {
          "base_uri": "https://localhost:8080/",
          "height": 69
        },
        "id": "FvyYl92MV_XL",
        "outputId": "75fef640-7910-459e-c1df-48313b29beb6"
      },
      "execution_count": 14,
      "outputs": [
        {
          "output_type": "stream",
          "name": "stdout",
          "text": [
            "Answer:\n",
            " MR. KISHAN GOUD\n",
            "\n"
          ]
        }
      ]
    },
    {
      "cell_type": "code",
      "source": [],
      "metadata": {
        "id": "R7PyXkNpXru-"
      },
      "execution_count": null,
      "outputs": []
    }
  ]
}