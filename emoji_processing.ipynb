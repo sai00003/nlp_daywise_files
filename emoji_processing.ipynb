{
 "cells": [
  {
   "cell_type": "code",
   "execution_count": 2,
   "id": "0851d223",
   "metadata": {},
   "outputs": [
    {
     "name": "stdout",
     "output_type": "stream",
     "text": [
      "Requirement already satisfied: emot in c:\\users\\dell\\anaconda3\\lib\\site-packages (3.1)\n"
     ]
    }
   ],
   "source": [
    "!pip install emot"
   ]
  },
  {
   "cell_type": "code",
   "execution_count": 3,
   "id": "5b01975f",
   "metadata": {},
   "outputs": [
    {
     "name": "stdout",
     "output_type": "stream",
     "text": [
      "What are you saying 😂. I am the boss 😎, and why are you so 😏\n"
     ]
    }
   ],
   "source": [
    "text1=\"What are you saying 😂. I am the boss 😎, and why are you so 😏\"\n",
    "print(text1)"
   ]
  },
  {
   "cell_type": "code",
   "execution_count": 4,
   "id": "909c4018",
   "metadata": {},
   "outputs": [
    {
     "name": "stdout",
     "output_type": "stream",
     "text": [
      "128527\n"
     ]
    }
   ],
   "source": [
    "print(ord(\"😏\"))"
   ]
  },
  {
   "cell_type": "code",
   "execution_count": 34,
   "id": "7fc13e3f",
   "metadata": {},
   "outputs": [],
   "source": [
    "import re\n",
    "from emot.emo_unicode import UNICODE_EMOJI\n",
    "from emot.emo_unicode import EMOTICONS_EMO"
   ]
  },
  {
   "cell_type": "code",
   "execution_count": 41,
   "id": "b7aa49e1",
   "metadata": {},
   "outputs": [
    {
     "name": "stdout",
     "output_type": "stream",
     "text": [
      "What are you saying 😂. I am the boss 😎, and why are you so 😏\n",
      "What are you saying face_with_tears_of_joy. I am the boss smiling_face_with_sunglasses, and why are you so smirking_face\n"
     ]
    }
   ],
   "source": [
    "def convering_emojis(text):\n",
    "    for emot in UNICODE_EMOJI:\n",
    "        text=text.replace(emot,\"-\".join(UNICODE_EMOJI[emot].replace(\",\",\"\")\\\n",
    "                         .replace(\":\",\"\").split()))\n",
    "    return text\n",
    "\n",
    "print(text1)\n",
    "print(convering_emojis(text1))"
   ]
  },
  {
   "cell_type": "code",
   "execution_count": 42,
   "id": "3e1c2e3b",
   "metadata": {},
   "outputs": [
    {
     "data": {
      "text/plain": [
       "'What are you saying . I am the boss , and why are you so '"
      ]
     },
     "execution_count": 42,
     "metadata": {},
     "output_type": "execute_result"
    }
   ],
   "source": [
    "import re\n",
    "\n",
    "def emoji_removal(string):\n",
    "    emoji_unicodes = re.compile(\"[\"\n",
    "        u\"\\U0001F600-\\U0001F64F\"  \n",
    "        u\"\\U0001F300-\\U0001F5FF\"  \n",
    "        u\"\\U0001F680-\\U0001F6FF\"  \n",
    "        u\"\\U0001F1E0-\\U0001F1FF\"  \n",
    "        u\"\\U00002500-\\U00002BEF\"\n",
    "        u\"\\U00002702-\\U000027B0\"\n",
    "        u\"\\U000024C2-\\U0001F251\"\n",
    "        u\"\\U0001F926-\\U0001F937\"\n",
    "        u\"\\U00010000-\\U0010FFFF\"\n",
    "        u\"\\u2640-\\u2642\"\n",
    "        u\"\\u2600-\\u2B55\"\n",
    "        u\"\\u200D\"\n",
    "        u\"\\u23CF\"\n",
    "        u\"\\u23E9\"\n",
    "        u\"\\u231A\"\n",
    "        u\"\\uFE0F\"\n",
    "        u\"\\u3030\"\n",
    "        \"]+\", flags=re.UNICODE)\n",
    "    \n",
    "    return emoji_unicodes.sub(r'', string)\n",
    "\n",
    "\n",
    "emoji_removal(text1)\n"
   ]
  },
  {
   "cell_type": "code",
   "execution_count": null,
   "id": "c98c3c1c",
   "metadata": {},
   "outputs": [],
   "source": []
  },
  {
   "cell_type": "code",
   "execution_count": null,
   "id": "4f685ec0",
   "metadata": {},
   "outputs": [],
   "source": []
  },
  {
   "cell_type": "code",
   "execution_count": null,
   "id": "0c25d243",
   "metadata": {},
   "outputs": [],
   "source": []
  }
 ],
 "metadata": {
  "kernelspec": {
   "display_name": "Python 3 (ipykernel)",
   "language": "python",
   "name": "python3"
  },
  "language_info": {
   "codemirror_mode": {
    "name": "ipython",
    "version": 3
   },
   "file_extension": ".py",
   "mimetype": "text/x-python",
   "name": "python",
   "nbconvert_exporter": "python",
   "pygments_lexer": "ipython3",
   "version": "3.9.13"
  }
 },
 "nbformat": 4,
 "nbformat_minor": 5
}
